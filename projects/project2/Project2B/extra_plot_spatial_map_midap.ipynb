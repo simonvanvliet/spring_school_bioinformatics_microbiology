{
 "cells": [
  {
   "attachments": {},
   "cell_type": "markdown",
   "metadata": {},
   "source": [
    "# Plot spatial properties\n",
    "\n",
    "In this notebook we provide code to show the spatial distribution of extracted properties of cells using Napri"
   ]
  },
  {
   "cell_type": "code",
   "execution_count": 1,
   "metadata": {},
   "outputs": [],
   "source": [
    "%matplotlib inline\n",
    "%config InlineBackend.figure_format = 'retina'\n",
    "%gui qt\n",
    "\n",
    "import numpy as np\n",
    "import pandas as pd\n",
    "\n",
    "import matplotlib\n",
    "import matplotlib.pyplot as plt\n",
    "import matplotlib.cm as cm\n",
    "matplotlib.rc(\"figure\", figsize=(10,5))\n",
    "\n",
    "import seaborn as sns\n",
    "\n",
    "import pathlib\n",
    "import napari\n",
    "\n",
    "import h5py\n"
   ]
  },
  {
   "attachments": {},
   "cell_type": "markdown",
   "metadata": {},
   "source": [
    "## Define function\n",
    "\n",
    "Below we define the function to create a spatial map of a property of choice"
   ]
  },
  {
   "cell_type": "code",
   "execution_count": null,
   "metadata": {},
   "outputs": [],
   "source": [
    "def plot_spatial_map(label_stack, df, property, frame):\n",
    "    \"\"\"\n",
    "    Plot spatial map of cell property\n",
    "    \n",
    "    Parameters:\n",
    "        label_stack: Numpy ND array [t,y,x] with label image stack\n",
    "        df: pandas data frame of lineage object\n",
    "        property: key of cell property contained in lineage object\n",
    "        frame: frame to show\n",
    "        \n",
    "    Returns:\n",
    "        spatial_map: Numpy ND array [y,x] spatial map of cell property at given frame\n",
    "    \"\"\"\n",
    "\n",
    "    #create color map where Nan is shown as black  \n",
    "    colMap = cm.get_cmap(\"viridis\").copy()\n",
    "    colMap.set_bad(color='black')\n",
    "    \n",
    "    # get label image:\n",
    "    labels = label_stack[frame,:,:] #assumes frame is the first dimension\n",
    "    spatial_map = np.full(labels.shape, np.nan)\n",
    "    \n",
    "    # Go over cells in selected frame:\n",
    "    for cnb in np.unique(labels):\n",
    "        if cnb==0: continue\n",
    "        #assign cells mask area the phenotype of choice\n",
    "        spatial_map[labels==cnb] = df.loc[(df['frame']==frame) & (df['labelID']==cnb),property].item()\n",
    "    \n",
    "    return spatial_map"
   ]
  },
  {
   "attachments": {},
   "cell_type": "markdown",
   "metadata": {},
   "source": [
    "## Load Data\n",
    "We load the data from the last notebook;"
   ]
  },
  {
   "cell_type": "code",
   "execution_count": 4,
   "metadata": {},
   "outputs": [],
   "source": [
    "#load images and labels\n",
    "with h5py.File(pos_file, 'r') as f:\n",
    "    labels = f['labels'][:]\n",
    "    images = f['images'][:]\n",
    "    \n",
    "df = pd.read_csv(lineage_file)    "
   ]
  },
  {
   "attachments": {},
   "cell_type": "markdown",
   "metadata": {},
   "source": [
    "## Plot data\n",
    "\n",
    "you can set `property_to_show` to any column name in the dataframe"
   ]
  },
  {
   "cell_type": "code",
   "execution_count": 5,
   "metadata": {},
   "outputs": [],
   "source": [
    "property_to_show = 'id_colony'\n",
    "#loop over all frames\n",
    "props = [plot_spatial_map(labels, df, property_to_show, frame=fr) for fr in range(labels.shape[0])]\n",
    "propstack = np.stack(props) #convert list of arrays to array"
   ]
  },
  {
   "attachments": {},
   "cell_type": "markdown",
   "metadata": {},
   "source": [
    "Now we create a Napari window adding the property to show"
   ]
  },
  {
   "cell_type": "code",
   "execution_count": 6,
   "metadata": {},
   "outputs": [],
   "source": [
    "viewer = napari.view_image(images)\n",
    "viewer.add_labels(labels)\n",
    "viewer.add_image(propstack)\n",
    "viewer.show()"
   ]
  }
 ],
 "metadata": {
  "kernelspec": {
   "display_name": "Python 3.9.13 ('i2i_env')",
   "language": "python",
   "name": "python3"
  },
  "language_info": {
   "codemirror_mode": {
    "name": "ipython",
    "version": 3
   },
   "file_extension": ".py",
   "mimetype": "text/x-python",
   "name": "python",
   "nbconvert_exporter": "python",
   "pygments_lexer": "ipython3",
   "version": "3.9.13"
  },
  "vscode": {
   "interpreter": {
    "hash": "7c6538b57b9d95695cc8c88818812a736980da96b6d92e389fbfaae31437292d"
   }
  }
 },
 "nbformat": 4,
 "nbformat_minor": 4
}
