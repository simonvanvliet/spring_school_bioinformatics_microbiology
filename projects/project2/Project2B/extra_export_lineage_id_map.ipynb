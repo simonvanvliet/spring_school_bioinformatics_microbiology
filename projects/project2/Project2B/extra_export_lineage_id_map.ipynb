{
 "cells": [
  {
   "attachments": {},
   "cell_type": "markdown",
   "metadata": {},
   "source": [
    "# Create lineage based label images\n",
    "\n",
    "In this notebook we provide code to create label images where cells are colored by track id."
   ]
  },
  {
   "cell_type": "code",
   "execution_count": 1,
   "metadata": {},
   "outputs": [],
   "source": [
    "import numpy as np\n",
    "import pandas as pd\n",
    "import pathlib\n",
    "import delta\n",
    "import tifffile\n"
   ]
  },
  {
   "attachments": {},
   "cell_type": "markdown",
   "metadata": {},
   "source": [
    "## Set paths"
   ]
  },
  {
   "cell_type": "code",
   "execution_count": 2,
   "metadata": {},
   "outputs": [],
   "source": [
    "proj_dir = pathlib.Path(pathlib.Path.home(), 'I2ICourse', 'Project2B')\n",
    "pos_file = proj_dir / 'ProcessedData' / 'Position000000.pkl' # path to .pkl file (output from Delta)\n",
    "df_file = proj_dir / 'ProcessedData' / 'Position000000_dataframe.csv' # path to .csv file containing lineage info (output from Delta post-processing)"
   ]
  },
  {
   "attachments": {},
   "cell_type": "markdown",
   "metadata": {},
   "source": [
    "## Define function"
   ]
  },
  {
   "cell_type": "code",
   "execution_count": null,
   "metadata": {},
   "outputs": [],
   "source": [
    "def convert_label_image(label_stack, df, frame, property='id_cell'):\n",
    "    \"\"\"\n",
    "    Plot spatial map of cell property\n",
    "    \n",
    "    Parameters:\n",
    "        label_stack: Numpy ND array [t,y,x] with label image stack\n",
    "        df: pandas data frame of lineage object\n",
    "        frame: frame to show\n",
    "        property: key of cell property contained in lineage object\n",
    "    Returns:\n",
    "        spatial_map: Numpy ND array [y,x] spatial map of cell property at given frame\n",
    "    \"\"\"\n",
    "\n",
    "    # get label image:\n",
    "    labels = label_stack[frame,:,:] #assumes frame is the first dimension\n",
    "    spatial_map = np.zeros_like(labels)\n",
    "    \n",
    "    # Go over cells in selected frame:\n",
    "    for cnb in np.unique(labels):\n",
    "        if cnb==0: continue\n",
    "        #assign cells mask area the phenotype of choice\n",
    "        #note: Delta id_seg uses zero based indexing, label image 1 based indexing!\n",
    "        spatial_map[labels==cnb] = df.loc[(df['frames']==frame) & (df['id_seg']==cnb-1),property].item()\n",
    "    \n",
    "    return spatial_map"
   ]
  },
  {
   "attachments": {},
   "cell_type": "markdown",
   "metadata": {},
   "source": [
    "## Load Data"
   ]
  },
  {
   "cell_type": "code",
   "execution_count": 4,
   "metadata": {},
   "outputs": [],
   "source": [
    "#create postion object\n",
    "pos = delta.pipeline.Position(None,None,None)\n",
    "pos.load(pos_file) #load position file\n",
    "df = pd.read_csv(df_file) #load lineage dataframe\n",
    "\n",
    "#create label stack\n",
    "labels = pos.rois[0].label_stack\n",
    "labelstack = np.stack(labels, axis=0) #load label data from position file"
   ]
  },
  {
   "attachments": {},
   "cell_type": "markdown",
   "metadata": {},
   "source": [
    "## Process data"
   ]
  },
  {
   "cell_type": "code",
   "execution_count": 5,
   "metadata": {},
   "outputs": [],
   "source": [
    "#loop over all frames\n",
    "labelim_new_list = [convert_label_image(labelstack, df, frame=fr) for fr in range(len(labels))]\n",
    "labels_new = np.stack(labelim_new_list) #create 3D array from list of 2D arrays"
   ]
  },
  {
   "attachments": {},
   "cell_type": "markdown",
   "metadata": {},
   "source": [
    "### Write Tiff Files"
   ]
  },
  {
   "cell_type": "code",
   "execution_count": null,
   "metadata": {},
   "outputs": [],
   "source": [
    "for i in range(labels_new.shape[0]):\n",
    "    tifffile.imwrite(f\"label_im_{i}.tiff\", labels_new[i, :, :])"
   ]
  }
 ],
 "metadata": {
  "kernelspec": {
   "display_name": "Python 3.9.13 ('i2i_env')",
   "language": "python",
   "name": "python3"
  },
  "language_info": {
   "codemirror_mode": {
    "name": "ipython",
    "version": 3
   },
   "file_extension": ".py",
   "mimetype": "text/x-python",
   "name": "python",
   "nbconvert_exporter": "python",
   "pygments_lexer": "ipython3",
   "version": "3.9.13"
  },
  "vscode": {
   "interpreter": {
    "hash": "7c6538b57b9d95695cc8c88818812a736980da96b6d92e389fbfaae31437292d"
   }
  }
 },
 "nbformat": 4,
 "nbformat_minor": 4
}
